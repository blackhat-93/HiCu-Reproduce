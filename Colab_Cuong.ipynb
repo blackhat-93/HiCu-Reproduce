{
  "nbformat": 4,
  "nbformat_minor": 0,
  "metadata": {
    "colab": {
      "provenance": [],
      "machine_shape": "hm",
      "gpuType": "T4",
      "authorship_tag": "ABX9TyNZgPOFn73Layva1ZDAWOIM",
      "include_colab_link": true
    },
    "kernelspec": {
      "name": "python3",
      "display_name": "Python 3"
    },
    "language_info": {
      "name": "python"
    },
    "accelerator": "GPU"
  },
  "cells": [
    {
      "cell_type": "markdown",
      "metadata": {
        "id": "view-in-github",
        "colab_type": "text"
      },
      "source": [
        "<a href=\"https://colab.research.google.com/github/blackhat-93/HiCu-Reproduce/blob/dryrun_colab/Colab_Cuong.ipynb\" target=\"_parent\"><img src=\"https://colab.research.google.com/assets/colab-badge.svg\" alt=\"Open In Colab\"/></a>"
      ]
    },
    {
      "cell_type": "markdown",
      "source": [
        "# Pip libraries setup"
      ],
      "metadata": {
        "id": "rGGdfXIhcZGW"
      }
    },
    {
      "cell_type": "code",
      "source": [
        "# # No need to run this cell\n",
        "# # Saved here as a record of package versions that worked off-the-shelf from Colab on 20Nov2023\n",
        "\n",
        "# # Colab's python version was 3.10.12\n",
        "# !pip install gensim==4.3.2\n",
        "# !pip install nltk==3.8.1\n",
        "# !pip install numpy==1.23.5\n",
        "# !pip install pandas==1.5.3\n",
        "# !pip install scikit-learn==1.2.2\n",
        "# !pip install scipy==1.11.3\n",
        "# !pip install tqdm==4.66.1\n",
        "# !pip install transformers==4.35.2\n",
        "# !pip install packaging==23.2\n",
        "# !pip install torch==2.1.0+cu118"
      ],
      "metadata": {
        "id": "ICVPVRnucgcI"
      },
      "execution_count": null,
      "outputs": []
    },
    {
      "cell_type": "markdown",
      "source": [
        "# Check package versions"
      ],
      "metadata": {
        "id": "Jb1UQ7fKm_cH"
      }
    },
    {
      "cell_type": "code",
      "source": [
        "import sys\n",
        "import gensim\n",
        "import nltk\n",
        "import numpy\n",
        "import pandas\n",
        "import sklearn\n",
        "import scipy\n",
        "import tqdm\n",
        "import transformers\n",
        "import packaging\n",
        "import torch\n",
        "\n",
        "print(\"python:\", sys.version)\n",
        "print(\"gensim:\", gensim.__version__)\n",
        "print(\"nltk:\", nltk.__version__)\n",
        "print(\"numpy:\", numpy.__version__)\n",
        "print(\"pandas:\", pandas.__version__)\n",
        "print(\"scikit-learn:\", sklearn.__version__)\n",
        "print(\"scipy:\", scipy.__version__)\n",
        "print(\"tqdm:\", tqdm.__version__)\n",
        "print(\"transformers:\", transformers.__version__)\n",
        "print(\"packaging:\", packaging.__version__)\n",
        "print(\"torch:\", torch.__version__)"
      ],
      "metadata": {
        "id": "hSWRu3-YlTEF"
      },
      "execution_count": null,
      "outputs": []
    },
    {
      "cell_type": "markdown",
      "source": [
        "# Check CUDA & RAM availability"
      ],
      "metadata": {
        "id": "KonzJON3oKd0"
      }
    },
    {
      "cell_type": "code",
      "source": [
        "if torch.cuda.is_available():\n",
        "    print(\"CUDA is available. GPU: \" + torch.cuda.get_device_name(0))\n",
        "else:\n",
        "    print(\"CUDA is not available.\")\n",
        "\n",
        "!nvidia-smi"
      ],
      "metadata": {
        "id": "DDVq9m_tnIzN"
      },
      "execution_count": null,
      "outputs": []
    },
    {
      "cell_type": "code",
      "source": [
        "from psutil import virtual_memory\n",
        "ram_gb = virtual_memory().total / 1e9\n",
        "print('Your runtime has {:.1f} gigabytes of available RAM\\n'.format(ram_gb))\n",
        "\n",
        "if ram_gb < 20:\n",
        "  print('Not using a high-RAM runtime')\n",
        "else:\n",
        "  print('You are using a high-RAM runtime!')"
      ],
      "metadata": {
        "id": "z0AbBrCG16vJ"
      },
      "execution_count": null,
      "outputs": []
    },
    {
      "cell_type": "code",
      "source": [
        "import os\n",
        "num_cores = os.cpu_count()\n",
        "print(\"Number of CPU cores:\", num_cores)"
      ],
      "metadata": {
        "id": "5StNPQCxmFtY"
      },
      "execution_count": null,
      "outputs": []
    },
    {
      "cell_type": "markdown",
      "source": [
        "# Transfer data to Google Colab local drive (faster training)"
      ],
      "metadata": {
        "id": "EqGnPqDoUHCz"
      }
    },
    {
      "cell_type": "code",
      "source": [
        "# Give access to Google Drive\n",
        "from google.colab import drive\n",
        "drive.mount('/content/drive')\n",
        "\n",
        "# Copy Google Drive to Google Colab local drive\n",
        "!cp -r '/content/drive/My Drive/CSE6250-TeamProject/HiCu-Reproduce' '/content/'\n",
        "\n",
        "# Change directory to HiCu-Reproduce folder in Google Colab\n",
        "import os\n",
        "os.chdir('/content/HiCu-Reproduce')\n",
        "print(\"Current directory:\", os.getcwd())\n",
        "print(\"Content of current directory:\", os.listdir())"
      ],
      "metadata": {
        "id": "DG-V0JQ9mN9M"
      },
      "execution_count": null,
      "outputs": []
    },
    {
      "cell_type": "markdown",
      "source": [
        "# Run training script"
      ],
      "metadata": {
        "id": "MLbLcyM5moKq"
      }
    },
    {
      "cell_type": "code",
      "source": [
        "!python runs/run_multirescnn_hicua_asl_full.py"
      ],
      "metadata": {
        "id": "rZT8EWYfmU-p"
      },
      "execution_count": null,
      "outputs": []
    },
    {
      "cell_type": "markdown",
      "source": [
        "# Copy results back to Google Drive"
      ],
      "metadata": {
        "id": "QItpxljbwSME"
      }
    },
    {
      "cell_type": "code",
      "source": [
        "!cp -r '/content/HiCu-Reproduce/models' '/content/drive/My Drive/CSE6250-TeamProject/HiCu-Reproduce'"
      ],
      "metadata": {
        "id": "IOYUTkK3wW4E"
      },
      "execution_count": null,
      "outputs": []
    }
  ]
}